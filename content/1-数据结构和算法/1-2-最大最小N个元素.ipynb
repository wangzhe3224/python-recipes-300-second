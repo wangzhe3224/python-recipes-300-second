{
 "cells": [
  {
   "attachments": {},
   "cell_type": "markdown",
   "metadata": {},
   "source": [
    "## 问题：找到一个列表中的最大或者最小 N 个元素\n",
    "\n",
    "方案：使用 Heap （堆）数据结构"
   ]
  },
  {
   "cell_type": "code",
   "execution_count": 20,
   "metadata": {},
   "outputs": [],
   "source": [
    "import heapq"
   ]
  },
  {
   "cell_type": "code",
   "execution_count": 21,
   "metadata": {},
   "outputs": [
    {
     "name": "stdout",
     "output_type": "stream",
     "text": [
      "[12, 10, 9]\n",
      "[1, 2, 3]\n"
     ]
    }
   ],
   "source": [
    "# 基本用法\n",
    "data = [1, 2, 3, 10, 4, 8, 7, 9, 12, 3]\n",
    "print(heapq.nlargest(3, data))\n",
    "print(heapq.nsmallest(3, data))"
   ]
  },
  {
   "cell_type": "code",
   "execution_count": 22,
   "metadata": {},
   "outputs": [
    {
     "name": "stdout",
     "output_type": "stream",
     "text": [
      "[{'name': 'GOOG', 'price': 400.0}, {'name': 'FB', 'price': 300.0}, {'name': 'IBM', 'price': 200.0}]\n",
      "[{'name': 'AAPL', 'price': 100.0}, {'name': 'IBM', 'price': 200.0}, {'name': 'FB', 'price': 300.0}]\n"
     ]
    }
   ],
   "source": [
    "# 复杂数据元素\n",
    "data = [\n",
    "    {'name': 'AAPL', 'price': 100.0},\n",
    "    {'name': 'IBM', 'price': 200.0},\n",
    "    {'name': 'FB', 'price': 300.0},\n",
    "    {'name': 'GOOG', 'price': 400.0},\n",
    "]\n",
    "print(heapq.nlargest(3, data, key=lambda s: s[\"price\"]))\n",
    "print(heapq.nsmallest(3, data, key=lambda s: s[\"price\"]))"
   ]
  },
  {
   "cell_type": "code",
   "execution_count": 23,
   "metadata": {},
   "outputs": [
    {
     "name": "stdout",
     "output_type": "stream",
     "text": [
      "None\n"
     ]
    }
   ],
   "source": [
    "# 深入细节\n",
    "data = [1, 2, 3, 10, 4, 8, 7, 9, 12, 3]\n",
    "heapit = heapq.heapify(data)\n",
    "print(heapit)\n",
    "# heapify 不会返回任何内容，而是进行原理堆化"
   ]
  },
  {
   "cell_type": "code",
   "execution_count": 24,
   "metadata": {},
   "outputs": [
    {
     "data": {
      "text/plain": [
       "[1, 2, 3, 9, 3, 8, 7, 10, 12, 4]"
      ]
     },
     "execution_count": 24,
     "metadata": {},
     "output_type": "execute_result"
    }
   ],
   "source": [
    "data  # 已经部分有序"
   ]
  },
  {
   "cell_type": "code",
   "execution_count": 15,
   "metadata": {},
   "outputs": [
    {
     "name": "stdout",
     "output_type": "stream",
     "text": [
      "\u001b[0;31mSignature:\u001b[0m \u001b[0mheapq\u001b[0m\u001b[0;34m.\u001b[0m\u001b[0mheapify\u001b[0m\u001b[0;34m(\u001b[0m\u001b[0mheap\u001b[0m\u001b[0;34m,\u001b[0m \u001b[0;34m/\u001b[0m\u001b[0;34m)\u001b[0m\u001b[0;34m\u001b[0m\u001b[0;34m\u001b[0m\u001b[0m\n",
      "\u001b[0;31mDocstring:\u001b[0m Transform list into a heap, in-place, in O(len(heap)) time.\n",
      "\u001b[0;31mType:\u001b[0m      builtin_function_or_method"
     ]
    }
   ],
   "source": [
    "heapq.heapify?"
   ]
  },
  {
   "cell_type": "code",
   "execution_count": 17,
   "metadata": {},
   "outputs": [
    {
     "name": "stdout",
     "output_type": "stream",
     "text": [
      "12\n",
      "1\n"
     ]
    }
   ],
   "source": [
    "# 如果只需要 1 个最大或者最小\n",
    "print(max(data))\n",
    "print(min(data))"
   ]
  },
  {
   "cell_type": "code",
   "execution_count": 19,
   "metadata": {},
   "outputs": [
    {
     "data": {
      "text/plain": [
       "[1, 2]"
      ]
     },
     "execution_count": 19,
     "metadata": {},
     "output_type": "execute_result"
    }
   ],
   "source": [
    "# 如果 N 的大小跟列表的大小相近，使用 sorted 即可\n",
    "sorted(data)[: 2]"
   ]
  },
  {
   "cell_type": "code",
   "execution_count": null,
   "metadata": {},
   "outputs": [],
   "source": []
  }
 ],
 "metadata": {
  "kernelspec": {
   "display_name": "asyncz-jJpkx69Q-py3.10",
   "language": "python",
   "name": "python3"
  },
  "language_info": {
   "codemirror_mode": {
    "name": "ipython",
    "version": 3
   },
   "file_extension": ".py",
   "mimetype": "text/x-python",
   "name": "python",
   "nbconvert_exporter": "python",
   "pygments_lexer": "ipython3",
   "version": "3.10.5"
  },
  "orig_nbformat": 4,
  "vscode": {
   "interpreter": {
    "hash": "a6c0c7ff594d3a97a21cedb9622ec0986d407f9f1747ee24cbb417be61a781d0"
   }
  }
 },
 "nbformat": 4,
 "nbformat_minor": 2
}
