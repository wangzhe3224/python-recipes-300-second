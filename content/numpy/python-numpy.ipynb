{
 "cells": [
  {
   "cell_type": "code",
   "execution_count": 2,
   "metadata": {},
   "outputs": [],
   "source": [
    "import numpy as np\n",
    "import random"
   ]
  },
  {
   "attachments": {},
   "cell_type": "markdown",
   "metadata": {},
   "source": [
    "numpy 的精髓就在于向量化（Vectorization），如果你是 Python 用户，这一点恐怕是你面临最大的困难，因为你需要改变"
   ]
  },
  {
   "cell_type": "code",
   "execution_count": 3,
   "metadata": {},
   "outputs": [],
   "source": [
    "class RandomWalker:\n",
    "    def __init__(self):\n",
    "        self.position = 0\n",
    "\n",
    "    def walk(self, n):\n",
    "        self.position = 0\n",
    "        for i in range(n):\n",
    "            yield self.position\n",
    "            self.position += 2*random.randint(0, 1) - 1"
   ]
  },
  {
   "cell_type": "code",
   "execution_count": 4,
   "metadata": {},
   "outputs": [],
   "source": [
    "walker = RandomWalker()"
   ]
  },
  {
   "cell_type": "code",
   "execution_count": 8,
   "metadata": {},
   "outputs": [
    {
     "name": "stdout",
     "output_type": "stream",
     "text": [
      "8.08 ms ± 345 µs per loop (mean ± std. dev. of 7 runs, 100 loops each)\n"
     ]
    }
   ],
   "source": [
    "%timeit list(walker.walk(10000))"
   ]
  },
  {
   "cell_type": "code",
   "execution_count": 9,
   "metadata": {},
   "outputs": [],
   "source": [
    "def random_walk(n):\n",
    "    position = 0\n",
    "    walk = [position]\n",
    "    for i in range(n):\n",
    "        position += 2*random.randint(0, 1)-1\n",
    "        walk.append(position)\n",
    "    \n",
    "    return walk"
   ]
  },
  {
   "cell_type": "code",
   "execution_count": 10,
   "metadata": {},
   "outputs": [
    {
     "name": "stdout",
     "output_type": "stream",
     "text": [
      "7.76 ms ± 868 µs per loop (mean ± std. dev. of 7 runs, 100 loops each)\n"
     ]
    }
   ],
   "source": [
    "%timeit random_walk(10000)"
   ]
  },
  {
   "cell_type": "code",
   "execution_count": 11,
   "metadata": {},
   "outputs": [],
   "source": [
    "def random_walk_accu(n):\n",
    "    from itertools import accumulate\n",
    "    steps = random.choices([-1, 1], k=n)\n",
    "    return [0] + list(accumulate(steps))"
   ]
  },
  {
   "cell_type": "code",
   "execution_count": 12,
   "metadata": {},
   "outputs": [
    {
     "name": "stdout",
     "output_type": "stream",
     "text": [
      "1.18 ms ± 10.3 µs per loop (mean ± std. dev. of 7 runs, 1,000 loops each)\n"
     ]
    }
   ],
   "source": [
    "%timeit random_walk_vectorize(10000)"
   ]
  },
  {
   "cell_type": "code",
   "execution_count": 13,
   "metadata": {},
   "outputs": [],
   "source": [
    "def random_walk_numpy(n):\n",
    "    steps = np.random.choice([-1, 1], n)\n",
    "    return np.cumsum(steps)"
   ]
  },
  {
   "cell_type": "code",
   "execution_count": 14,
   "metadata": {},
   "outputs": [
    {
     "name": "stdout",
     "output_type": "stream",
     "text": [
      "84 µs ± 701 ns per loop (mean ± std. dev. of 7 runs, 10,000 loops each)\n"
     ]
    }
   ],
   "source": [
    "%timeit random_walk_numpy(10000)"
   ]
  },
  {
   "cell_type": "code",
   "execution_count": 17,
   "metadata": {},
   "outputs": [
    {
     "data": {
      "text/plain": [
       "array([[0.18868688, 0.17044232, 0.36453915, 0.67010373, 0.01888855],\n",
       "       [0.29576431, 0.32145696, 0.75989134, 0.87196238, 0.0639664 ],\n",
       "       [0.6683426 , 0.31539345, 0.35128692, 0.93317567, 0.45958432]])"
      ]
     },
     "execution_count": 17,
     "metadata": {},
     "output_type": "execute_result"
    }
   ],
   "source": [
    "Z = np.random.uniform(0,1,(5,5))\n",
    "Z[:3, :]"
   ]
  },
  {
   "cell_type": "code",
   "execution_count": 31,
   "metadata": {},
   "outputs": [
    {
     "name": "stdout",
     "output_type": "stream",
     "text": [
      "z.itemsize = 2\n",
      "z.shape = (3, 3)\n",
      "z.ndim = 2\n",
      "z.strides = (6, 2)\n",
      "strides = (6, 2)\n",
      "z.tobytes() = b'\\x00\\x00\\x01\\x00\\x02\\x00\\x03\\x00\\x04\\x00\\x05\\x00\\x06\\x00\\x07\\x00\\x08\\x00'\n",
      "z.tobytes()[offset_start: offset_end] = b'\\x04\\x00'\n",
      "z[index].tobytes() = b'\\x04\\x00'\n"
     ]
    }
   ],
   "source": [
    "z = np.arange(9).reshape(3,3).astype(np.int16)\n",
    "print(f\"{z.itemsize = }\")\n",
    "print(f\"{z.shape = }\")\n",
    "print(f\"{z.ndim = }\")\n",
    "print(f\"{z.strides = }\")\n",
    "strides = z.shape[1]*z.itemsize, z.itemsize\n",
    "print(f\"{strides = }\")\n",
    "print(f\"{z.tobytes() = }\")\n",
    "# compute the right offset\n",
    "index = 1, 1\n",
    "offset_start = 0\n",
    "for i in range(z.ndim):\n",
    "    offset_start += z.strides[i]*index[i]\n",
    "offset_end = offset_start + z.itemsize\n",
    "print(f\"{z.tobytes()[offset_start: offset_end] = }\")\n",
    "print(f\"{z[index].tobytes() = }\")"
   ]
  },
  {
   "cell_type": "code",
   "execution_count": 42,
   "metadata": {},
   "outputs": [
    {
     "name": "stdout",
     "output_type": "stream",
     "text": [
      "z = array([1., 1., 1., 0., 0., 0., 0., 0., 0.])\n",
      "To check if it is copy or view: z_view.base is z = True\n",
      "z = array([0., 0., 0., 0., 0., 0., 0., 0., 0.])\n",
      "To check if it is copy or view: z_copy.base is z = False\n"
     ]
    }
   ],
   "source": [
    "z = np.zeros(9)\n",
    "z_view = z[:3]\n",
    "z_view[...] = 1\n",
    "print(f\"{z = }\")\n",
    "print(f\"To check if it is copy or view: {z_view.base is z = }\")\n",
    "# ------\n",
    "z = np.zeros(9)\n",
    "z_copy = z[[0,1,2]]\n",
    "z_copy[...] = 1\n",
    "print(f\"{z = }\")\n",
    "print(f\"To check if it is copy or view: {z_copy.base is z = }\")"
   ]
  },
  {
   "cell_type": "code",
   "execution_count": 38,
   "metadata": {},
   "outputs": [
    {
     "name": "stdout",
     "output_type": "stream",
     "text": [
      "Z = array([1., 1., 1., 0., 1., 0., 1., 0., 1.])\n"
     ]
    }
   ],
   "source": [
    "Z = np.zeros(9)\n",
    "index = [0,1,2]\n",
    "Z[index] = 1\n",
    "Z[::2] = 1\n",
    "print(f\"{Z = }\")"
   ]
  },
  {
   "attachments": {},
   "cell_type": "markdown",
   "metadata": {},
   "source": [
    "## Uniform 向量化"
   ]
  },
  {
   "cell_type": "code",
   "execution_count": 43,
   "metadata": {},
   "outputs": [
    {
     "data": {
      "image/png": "[encoded data removed]",
      "text/plain": [
       "<Figure size 600x300 with 1 Axes>"
      ]
     },
     "metadata": {},
     "output_type": "display_data"
    }
   ],
   "source": [
    "import numpy as np\n",
    "import matplotlib.pyplot as plt\n",
    "from matplotlib.animation import FuncAnimation\n",
    "\n",
    "\n",
    "def update(*args):\n",
    "    global Z, M\n",
    "\n",
    "    N = (Z[0:-2, 0:-2] + Z[0:-2, 1:-1] + Z[0:-2, 2:] +\n",
    "         Z[1:-1, 0:-2]                 + Z[1:-1, 2:] +\n",
    "         Z[2:  , 0:-2] + Z[2:  , 1:-1] + Z[2:  , 2:])\n",
    "    birth = (N == 3) & (Z[1:-1, 1:-1] == 0)\n",
    "    survive = ((N == 2) | (N == 3)) & (Z[1:-1, 1:-1] == 1)\n",
    "    Z[...] = 0\n",
    "    Z[1:-1, 1:-1][birth | survive] = 1\n",
    "\n",
    "    # Show past activities\n",
    "    M[M>0.25] = 0.25\n",
    "    M *= 0.995\n",
    "    M[Z==1] = 1\n",
    "    # Direct activity\n",
    "    # M[...] = Z\n",
    "    im.set_data(M)\n",
    "\n",
    "\n",
    "Z = np.random.randint(0, 2, (300, 600))\n",
    "M = np.zeros(Z.shape)\n",
    "\n",
    "size = np.array(Z.shape)\n",
    "dpi = 80.0\n",
    "figsize = size[1]/float(dpi), size[0]/float(dpi)\n",
    "fig = plt.figure(figsize=figsize, dpi=dpi)\n",
    "fig.add_axes([0.0, 0.0, 1.0, 1.0], frameon=False)\n",
    "im = plt.imshow(M, interpolation='nearest', cmap=plt.cm.gray_r, vmin=0, vmax=1)\n",
    "plt.xticks([]), plt.yticks([])\n",
    "\n",
    "animation = FuncAnimation(fig, update, interval=10, frames=2000)\n",
    "# animation.save('game-of-life.mp4', fps=40, dpi=80, bitrate=-1, codec=\"libx264\",\n",
    "#                extra_args=['-pix_fmt', 'yuv420p'],\n",
    "#                metadata={'artist':'Nicolas P. Rougier'})\n",
    "plt.show()"
   ]
  },
  {
   "cell_type": "code",
   "execution_count": 46,
   "metadata": {},
   "outputs": [],
   "source": [
    "Z = np.array([[0,0,0,0,0,0],\n",
    "     [0,0,0,1,0,0],\n",
    "     [0,1,0,1,0,0],\n",
    "     [0,0,1,1,0,0],\n",
    "     [0,0,0,0,0,0],\n",
    "     [0,0,0,0,0,0]])"
   ]
  },
  {
   "cell_type": "code",
   "execution_count": 47,
   "metadata": {},
   "outputs": [],
   "source": [
    "N = np.zeros(Z.shape, dtype=int)\n",
    "N[1:-1,1:-1] += (Z[ :-2, :-2] + Z[ :-2,1:-1] + Z[ :-2,2:] +\n",
    "                 Z[1:-1, :-2]                + Z[1:-1,2:] +\n",
    "                 Z[2:  , :-2] + Z[2:  ,1:-1] + Z[2:  ,2:])"
   ]
  },
  {
   "cell_type": "code",
   "execution_count": 63,
   "metadata": {},
   "outputs": [],
   "source": [
    "N_ = N.ravel()\n",
    "Z_ = Z.ravel()"
   ]
  },
  {
   "cell_type": "code",
   "execution_count": 72,
   "metadata": {},
   "outputs": [],
   "source": [
    "R1 = np.argwhere( (Z_==1) & (N_ < 2) )\n",
    "R2 = np.argwhere( (Z_==1) & (N_ > 3) )\n",
    "R3 = np.argwhere( (Z_==1) & ((N_==2) | (N_==3)) )\n",
    "R4 = np.argwhere( (Z_==0) & (N_==3) )\n",
    "# Make sure borders stay null\n",
    "Z[0,:] = Z[-1,:] = Z[:,0] = Z[:,-1] = 0"
   ]
  },
  {
   "cell_type": "code",
   "execution_count": 74,
   "metadata": {},
   "outputs": [],
   "source": [
    "Z = np.array([[0,0,0,0,0,0],\n",
    "     [0,0,0,1,0,0],\n",
    "     [0,1,0,1,0,0],\n",
    "     [0,0,1,1,0,0],\n",
    "     [0,0,0,0,0,0],\n",
    "     [0,0,0,0,0,0]])"
   ]
  },
  {
   "cell_type": "code",
   "execution_count": 87,
   "metadata": {},
   "outputs": [],
   "source": [
    "N = np.zeros(Z.shape, dtype=int)\n",
    "N[1:-1,1:-1] += (Z[ :-2, :-2] + Z[ :-2,1:-1] + Z[ :-2,2:] +\n",
    "                 Z[1:-1, :-2]                + Z[1:-1,2:] +\n",
    "                 Z[2:  , :-2] + Z[2:  ,1:-1] + Z[2:  ,2:])\n",
    "birth = (N==3)[1:-1,1:-1] & (Z[1:-1,1:-1]==0)\n",
    "survive = ((N==2) | (N==3))[1:-1,1:-1] & (Z[1:-1,1:-1]==1)\n",
    "Z[...] = 0\n",
    "Z[1:-1,1:-1][birth | survive] = 1"
   ]
  },
  {
   "cell_type": "code",
   "execution_count": 89,
   "metadata": {},
   "outputs": [
    {
     "data": {
      "text/plain": [
       "array([[0, 0, 0, 0],\n",
       "       [0, 0, 0, 0],\n",
       "       [0, 0, 0, 0],\n",
       "       [0, 0, 1, 0]])"
      ]
     },
     "execution_count": 89,
     "metadata": {},
     "output_type": "execute_result"
    }
   ],
   "source": [
    "Z[ :-2, :-2]"
   ]
  },
  {
   "cell_type": "code",
   "execution_count": 90,
   "metadata": {},
   "outputs": [
    {
     "data": {
      "text/plain": [
       "array([[0, 0, 0, 0],\n",
       "       [0, 0, 0, 0],\n",
       "       [0, 0, 0, 1],\n",
       "       [0, 1, 0, 1]])"
      ]
     },
     "execution_count": 90,
     "metadata": {},
     "output_type": "execute_result"
    }
   ],
   "source": [
    "Z[ :-2,1:-1]"
   ]
  },
  {
   "cell_type": "code",
   "execution_count": 86,
   "metadata": {},
   "outputs": [
    {
     "data": {
      "text/plain": [
       "array([[0, 0, 0, 0, 0, 0],\n",
       "       [0, 0, 0, 0, 0, 0],\n",
       "       [0, 0, 1, 0, 1, 0],\n",
       "       [0, 0, 0, 1, 1, 0],\n",
       "       [0, 0, 0, 1, 0, 0],\n",
       "       [0, 0, 0, 0, 0, 0]])"
      ]
     },
     "execution_count": 86,
     "metadata": {},
     "output_type": "execute_result"
    }
   ],
   "source": [
    "Z"
   ]
  },
  {
   "cell_type": "code",
   "execution_count": 88,
   "metadata": {},
   "outputs": [
    {
     "data": {
      "text/plain": [
       "array([[0, 0, 0, 0, 0, 0],\n",
       "       [0, 0, 0, 0, 0, 0],\n",
       "       [0, 0, 0, 0, 1, 0],\n",
       "       [0, 0, 1, 0, 1, 0],\n",
       "       [0, 0, 0, 1, 1, 0],\n",
       "       [0, 0, 0, 0, 0, 0]])"
      ]
     },
     "execution_count": 88,
     "metadata": {},
     "output_type": "execute_result"
    }
   ],
   "source": [
    "Z"
   ]
  },
  {
   "cell_type": "code",
   "execution_count": 91,
   "metadata": {},
   "outputs": [],
   "source": [
    "def build_maze(shape=(65, 65), complexity=0.75, density=0.50):\n",
    "    # Only odd shapes\n",
    "    shape = ((shape[0]//2)*2+1, (shape[1]//2)*2+1)\n",
    "\n",
    "    # Adjust complexity and density relatively to maze size\n",
    "    n_complexity = int(complexity*(shape[0]+shape[1]))\n",
    "    n_density = int(density*(shape[0]*shape[1]))\n",
    "\n",
    "    # Build actual maze\n",
    "    Z = np.zeros(shape, dtype=bool)\n",
    "\n",
    "    # Fill borders\n",
    "    Z[0, :] = Z[-1, :] = Z[:, 0] = Z[:, -1] = 1\n",
    "\n",
    "    # Islands starting point with a bias in favor of border\n",
    "    P = np.random.normal(0, 0.5, (n_density, 2))\n",
    "    P = 0.5 - np.maximum(-0.5, np.minimum(P, +0.5))\n",
    "    P = (P*[shape[1], shape[0]]).astype(int)\n",
    "    P = 2*(P//2)\n",
    "\n",
    "    # Create islands\n",
    "    for i in range(n_density):\n",
    "        # Test for early stop: if all starting point are busy, this means we\n",
    "        # won't be able to connect any island, so we stop.\n",
    "        T = Z[2:-2:2, 2:-2:2]\n",
    "        if T.sum() == T.size: break\n",
    "        x, y = P[i]\n",
    "        Z[y, x] = 1\n",
    "        for j in range(n_complexity):\n",
    "            neighbours = []\n",
    "            if x > 1:          neighbours.append([(y, x-1), (y, x-2)])\n",
    "            if x < shape[1]-2: neighbours.append([(y, x+1), (y, x+2)])\n",
    "            if y > 1:          neighbours.append([(y-1, x), (y-2, x)])\n",
    "            if y < shape[0]-2: neighbours.append([(y+1, x), (y+2, x)])\n",
    "            if len(neighbours):\n",
    "                choice = np.random.randint(len(neighbours))\n",
    "                next_1, next_2 = neighbours[choice]\n",
    "                if Z[next_2] == 0:\n",
    "                    Z[next_1] = 1\n",
    "                    Z[next_2] = 1\n",
    "                    y, x = next_2\n",
    "            else:\n",
    "                break\n",
    "    return Z"
   ]
  },
  {
   "cell_type": "code",
   "execution_count": 92,
   "metadata": {},
   "outputs": [],
   "source": [
    "def build_graph(maze):\n",
    "    height, width = maze.shape\n",
    "    graph = {(i, j): [] for j in range(width)\n",
    "                        for i in range(height) if not maze[i][j]}\n",
    "    for row, col in graph.keys():\n",
    "        if row < height - 1 and not maze[row + 1][col]:\n",
    "            graph[(row, col)].append((\"S\", (row + 1, col)))\n",
    "            graph[(row + 1, col)].append((\"N\", (row, col)))\n",
    "        if col < width - 1 and not maze[row][col + 1]:\n",
    "            graph[(row, col)].append((\"E\", (row, col + 1)))\n",
    "            graph[(row, col + 1)].append((\"W\", (row, col)))\n",
    "    return graph"
   ]
  },
  {
   "cell_type": "code",
   "execution_count": 95,
   "metadata": {},
   "outputs": [],
   "source": [
    "maze = build_maze()\n",
    "graph = build_graph(maze)\n",
    "from collections import deque"
   ]
  },
  {
   "cell_type": "code",
   "execution_count": 96,
   "metadata": {},
   "outputs": [],
   "source": [
    "def breadth_first(maze, start, goal):\n",
    "    queue = deque([([start], start)])\n",
    "    visited = set()\n",
    "    graph = build_graph(maze)\n",
    "\n",
    "    while queue:\n",
    "        path, current = queue.popleft()\n",
    "        if current == goal:\n",
    "            return np.array(path)\n",
    "        if current in visited:\n",
    "            continue\n",
    "        visited.add(current)\n",
    "        for direction, neighbour in graph[current]:\n",
    "            p = list(path)\n",
    "            p.append(neighbour)\n",
    "            queue.append((p, neighbour))\n",
    "    return None"
   ]
  },
  {
   "cell_type": "code",
   "execution_count": 97,
   "metadata": {},
   "outputs": [],
   "source": [
    "import numpy as np\n",
    "\n",
    "class C(np.ndarray):\n",
    "    def __new__(cls, *args, **kwargs):\n",
    "        print('In __new__ with class %s' % cls)\n",
    "        return super().__new__(cls, *args, **kwargs)\n",
    "\n",
    "    def __init__(self, *args, **kwargs):\n",
    "        # in practice you probably will not need or want an __init__\n",
    "        # method for your subclass\n",
    "        print('In __init__ with class %s' % self.__class__)\n",
    "\n",
    "    def __array_finalize__(self, obj):\n",
    "        print('In array_finalize:')\n",
    "        print('   self type is %s' % type(self))\n",
    "        print('   obj type is %s' % type(obj))"
   ]
  },
  {
   "cell_type": "code",
   "execution_count": 98,
   "metadata": {},
   "outputs": [
    {
     "name": "stdout",
     "output_type": "stream",
     "text": [
      "In __new__ with class <class '__main__.C'>\n",
      "In array_finalize:\n",
      "   self type is <class '__main__.C'>\n",
      "   obj type is <class 'NoneType'>\n",
      "In __init__ with class <class '__main__.C'>\n"
     ]
    }
   ],
   "source": [
    "c = C([1,2])"
   ]
  },
  {
   "cell_type": "code",
   "execution_count": 99,
   "metadata": {},
   "outputs": [
    {
     "name": "stdout",
     "output_type": "stream",
     "text": [
      "In array_finalize:\n",
      "   self type is <class '__main__.C'>\n",
      "   obj type is <class 'numpy.ndarray'>\n"
     ]
    }
   ],
   "source": [
    "a = np.arange(10)\n",
    "cast_a = a.view(C)"
   ]
  },
  {
   "cell_type": "code",
   "execution_count": 104,
   "metadata": {},
   "outputs": [],
   "source": [
    "import numpy as np\n",
    "\n",
    "class RealisticInfoArray(np.ndarray):\n",
    "\n",
    "    def __new__(cls, input_array, info=None):\n",
    "        # Input array is an already formed ndarray instance\n",
    "        # We first cast to be our class type\n",
    "        obj = np.asarray(input_array).view(cls)\n",
    "        # add the new attribute to the created instance\n",
    "        obj.info = info\n",
    "        # Finally, we must return the newly created object:\n",
    "        return obj\n",
    "\n",
    "    def __array_finalize__(self, obj):\n",
    "        # see InfoArray.__array_finalize__ for comments\n",
    "        if obj is None: return\n",
    "        self.info = getattr(obj, 'info', None)"
   ]
  },
  {
   "cell_type": "code",
   "execution_count": 110,
   "metadata": {},
   "outputs": [],
   "source": [
    "o = RealisticInfoArray(np.arange(4), info='HI Funcoder')"
   ]
  },
  {
   "cell_type": "code",
   "execution_count": 111,
   "metadata": {},
   "outputs": [
    {
     "data": {
      "text/plain": [
       "'HI Funcoder'"
      ]
     },
     "execution_count": 111,
     "metadata": {},
     "output_type": "execute_result"
    }
   ],
   "source": [
    "o.info"
   ]
  },
  {
   "cell_type": "code",
   "execution_count": null,
   "metadata": {},
   "outputs": [],
   "source": []
  }
 ],
 "metadata": {
  "kernelspec": {
   "display_name": "asyncz-jJpkx69Q-py3.10",
   "language": "python",
   "name": "python3"
  },
  "language_info": {
   "codemirror_mode": {
    "name": "ipython",
    "version": 3
   },
   "file_extension": ".py",
   "mimetype": "text/x-python",
   "name": "python",
   "nbconvert_exporter": "python",
   "pygments_lexer": "ipython3",
   "version": "3.10.5"
  },
  "orig_nbformat": 4
 },
 "nbformat": 4,
 "nbformat_minor": 2
}
